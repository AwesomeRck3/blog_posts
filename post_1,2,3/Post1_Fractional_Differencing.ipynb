{
 "cells": [
  {
   "cell_type": "markdown",
   "metadata": {},
   "source": [
    "This is the Jupyter notebook associated with the first 3 posts on the Kid Quant blog related to fractional differencing. Below, I generate all the tables/graphs I use to complete the post as well as any other functions/computations. I have a seperate latex file that runs through the derivation of fractional differencing weights which you can find in the same repo. \n",
    "\n",
    "I did my best to try and comment on most of my code (at least for now) just in case we have any python newbies out there interested (not to say that I'm not a newbie myself...)\n",
    "\n",
    "For now, I'll be using Quandl's API to get end of day prices for the examples I go through below. "
   ]
  },
  {
   "cell_type": "markdown",
   "metadata": {},
   "source": [
    "### Setup"
   ]
  },
  {
   "cell_type": "code",
   "execution_count": 14,
   "metadata": {},
   "outputs": [],
   "source": [
    "#import all necessary libraries for analysis\n",
    "import math\n",
    "import numpy as np\n",
    "import pandas as pd\n",
    "import quandl\n",
    "import statsmodels.tsa.stattools as st\n",
    "\n",
    "#plotting libraries\n",
    "from matplotlib import cm\n",
    "from matplotlib import gridspec\n",
    "from matplotlib import pyplot as plt\n",
    "\n",
    "import seaborn as sns\n",
    "\n",
    "#Initialize figure size (in inches)\n",
    "plt.rcParams['figure.figsize'] = [10,5]\n",
    "\n",
    "pd.options.display.max_rows = 10\n",
    "pd.options.display.float_format = '{:.1f}'.format\n",
    "\n",
    "import os"
   ]
  },
  {
   "cell_type": "code",
   "execution_count": 2,
   "metadata": {},
   "outputs": [],
   "source": [
    "#set API key (saved locally on machine)\n",
    "quandl.ApiConfig.api_key = os.environ.get('quandl_api_key')"
   ]
  },
  {
   "cell_type": "code",
   "execution_count": 3,
   "metadata": {
    "scrolled": true
   },
   "outputs": [
    {
     "data": {
      "text/html": [
       "<div>\n",
       "<style scoped>\n",
       "    .dataframe tbody tr th:only-of-type {\n",
       "        vertical-align: middle;\n",
       "    }\n",
       "\n",
       "    .dataframe tbody tr th {\n",
       "        vertical-align: top;\n",
       "    }\n",
       "\n",
       "    .dataframe thead th {\n",
       "        text-align: right;\n",
       "    }\n",
       "</style>\n",
       "<table border=\"1\" class=\"dataframe\">\n",
       "  <thead>\n",
       "    <tr style=\"text-align: right;\">\n",
       "      <th></th>\n",
       "      <th>Open</th>\n",
       "      <th>High</th>\n",
       "      <th>Low</th>\n",
       "      <th>Close</th>\n",
       "      <th>Volume</th>\n",
       "      <th>Ex-Dividend</th>\n",
       "      <th>Split Ratio</th>\n",
       "      <th>Adj. Open</th>\n",
       "      <th>Adj. High</th>\n",
       "      <th>Adj. Low</th>\n",
       "      <th>Adj. Close</th>\n",
       "      <th>Adj. Volume</th>\n",
       "    </tr>\n",
       "    <tr>\n",
       "      <th>Date</th>\n",
       "      <th></th>\n",
       "      <th></th>\n",
       "      <th></th>\n",
       "      <th></th>\n",
       "      <th></th>\n",
       "      <th></th>\n",
       "      <th></th>\n",
       "      <th></th>\n",
       "      <th></th>\n",
       "      <th></th>\n",
       "      <th></th>\n",
       "      <th></th>\n",
       "    </tr>\n",
       "  </thead>\n",
       "  <tbody>\n",
       "    <tr>\n",
       "      <th>2010-06-29</th>\n",
       "      <td>19.0</td>\n",
       "      <td>25.0</td>\n",
       "      <td>17.5</td>\n",
       "      <td>23.9</td>\n",
       "      <td>18766300.0</td>\n",
       "      <td>0.0</td>\n",
       "      <td>1.0</td>\n",
       "      <td>19.0</td>\n",
       "      <td>25.0</td>\n",
       "      <td>17.5</td>\n",
       "      <td>23.9</td>\n",
       "      <td>18766300.0</td>\n",
       "    </tr>\n",
       "    <tr>\n",
       "      <th>2010-06-30</th>\n",
       "      <td>25.8</td>\n",
       "      <td>30.4</td>\n",
       "      <td>23.3</td>\n",
       "      <td>23.8</td>\n",
       "      <td>17187100.0</td>\n",
       "      <td>0.0</td>\n",
       "      <td>1.0</td>\n",
       "      <td>25.8</td>\n",
       "      <td>30.4</td>\n",
       "      <td>23.3</td>\n",
       "      <td>23.8</td>\n",
       "      <td>17187100.0</td>\n",
       "    </tr>\n",
       "    <tr>\n",
       "      <th>2010-07-01</th>\n",
       "      <td>25.0</td>\n",
       "      <td>25.9</td>\n",
       "      <td>20.3</td>\n",
       "      <td>22.0</td>\n",
       "      <td>8218800.0</td>\n",
       "      <td>0.0</td>\n",
       "      <td>1.0</td>\n",
       "      <td>25.0</td>\n",
       "      <td>25.9</td>\n",
       "      <td>20.3</td>\n",
       "      <td>22.0</td>\n",
       "      <td>8218800.0</td>\n",
       "    </tr>\n",
       "    <tr>\n",
       "      <th>2010-07-02</th>\n",
       "      <td>23.0</td>\n",
       "      <td>23.1</td>\n",
       "      <td>18.7</td>\n",
       "      <td>19.2</td>\n",
       "      <td>5139800.0</td>\n",
       "      <td>0.0</td>\n",
       "      <td>1.0</td>\n",
       "      <td>23.0</td>\n",
       "      <td>23.1</td>\n",
       "      <td>18.7</td>\n",
       "      <td>19.2</td>\n",
       "      <td>5139800.0</td>\n",
       "    </tr>\n",
       "    <tr>\n",
       "      <th>2010-07-06</th>\n",
       "      <td>20.0</td>\n",
       "      <td>20.0</td>\n",
       "      <td>15.8</td>\n",
       "      <td>16.1</td>\n",
       "      <td>6866900.0</td>\n",
       "      <td>0.0</td>\n",
       "      <td>1.0</td>\n",
       "      <td>20.0</td>\n",
       "      <td>20.0</td>\n",
       "      <td>15.8</td>\n",
       "      <td>16.1</td>\n",
       "      <td>6866900.0</td>\n",
       "    </tr>\n",
       "  </tbody>\n",
       "</table>\n",
       "</div>"
      ],
      "text/plain": [
       "            Open  High  Low  Close     Volume  Ex-Dividend  Split Ratio  \\\n",
       "Date                                                                      \n",
       "2010-06-29  19.0  25.0 17.5   23.9 18766300.0          0.0          1.0   \n",
       "2010-06-30  25.8  30.4 23.3   23.8 17187100.0          0.0          1.0   \n",
       "2010-07-01  25.0  25.9 20.3   22.0  8218800.0          0.0          1.0   \n",
       "2010-07-02  23.0  23.1 18.7   19.2  5139800.0          0.0          1.0   \n",
       "2010-07-06  20.0  20.0 15.8   16.1  6866900.0          0.0          1.0   \n",
       "\n",
       "            Adj. Open  Adj. High  Adj. Low  Adj. Close  Adj. Volume  \n",
       "Date                                                                 \n",
       "2010-06-29       19.0       25.0      17.5        23.9   18766300.0  \n",
       "2010-06-30       25.8       30.4      23.3        23.8   17187100.0  \n",
       "2010-07-01       25.0       25.9      20.3        22.0    8218800.0  \n",
       "2010-07-02       23.0       23.1      18.7        19.2    5139800.0  \n",
       "2010-07-06       20.0       20.0      15.8        16.1    6866900.0  "
      ]
     },
     "execution_count": 3,
     "metadata": {},
     "output_type": "execute_result"
    }
   ],
   "source": [
    "tsla = quandl.get('WIKI/TSLA')\n",
    "#as a sanity check\n",
    "tsla.head(5)"
   ]
  },
  {
   "cell_type": "markdown",
   "metadata": {},
   "source": [
    "First, lets create a simple time-series graph of daily TSLA stock prices below."
   ]
  },
  {
   "cell_type": "code",
   "execution_count": 4,
   "metadata": {},
   "outputs": [
    {
     "name": "stderr",
     "output_type": "stream",
     "text": [
      "/Users/28422/Desktop/Blog_files/jupyter-env/lib/python3.7/site-packages/pandas/plotting/_converter.py:129: FutureWarning: Using an implicitly registered datetime converter for a matplotlib plotting method. The converter was registered by pandas on import. Future versions of pandas will require you to explicitly register matplotlib converters.\n",
      "\n",
      "To register the converters:\n",
      "\t>>> from pandas.plotting import register_matplotlib_converters\n",
      "\t>>> register_matplotlib_converters()\n",
      "  warnings.warn(msg, FutureWarning)\n"
     ]
    },
    {
     "data": {
      "text/plain": [
       "[<matplotlib.lines.Line2D at 0x125f58240>]"
      ]
     },
     "execution_count": 4,
     "metadata": {},
     "output_type": "execute_result"
    },
    {
     "data": {
      "image/png": "[encoded data removed]",
      "text/plain": [
       "<Figure size 432x288 with 1 Axes>"
      ]
     },
     "metadata": {
      "needs_background": "light"
     },
     "output_type": "display_data"
    }
   ],
   "source": [
    "plt.ylabel(\"Adj. Close Price\")\n",
    "plt.xlabel(\"Date\")\n",
    "plt.title(\"TSLA Stock Price\")\n",
    "plt.tight_layout()\n",
    "plt.plot(tsla.index, tsla['Adj. Close'])"
   ]
  },
  {
   "cell_type": "markdown",
   "metadata": {},
   "source": [
    "Mean & Variance formulas for each respective observation $x_i$\n",
    "\n",
    "Mean $$ \\mu = \\frac{\\sum_{i=1}^{n}x_i}{n}$$\n",
    "\n",
    "Variance $$\\sigma^2 = \\frac{\\sum_{i=1}^{n}(x_i - \\mu)^2} {n}$$"
   ]
  },
  {
   "cell_type": "markdown",
   "metadata": {},
   "source": [
    "Below, I use numpy to find the daily returns of Tesla stock. This code may seem a bit convoluted but think of it as an exercise in vectorizing your code which can be extremely useful when looking at larger sets of data. The memory buffers for numpy arrays are stored at the C level so it makes the computing much faster (due to cache locality and heavily optimized computing). \n",
    "\n"
   ]
  },
  {
   "cell_type": "code",
   "execution_count": 5,
   "metadata": {},
   "outputs": [
    {
     "data": {
      "text/plain": [
       "[<matplotlib.lines.Line2D at 0x127250e10>]"
      ]
     },
     "execution_count": 5,
     "metadata": {},
     "output_type": "execute_result"
    },
    {
     "data": {
      "image/png": "[encoded data removed]",
      "text/plain": [
       "<Figure size 432x288 with 1 Axes>"
      ]
     },
     "metadata": {
      "needs_background": "light"
     },
     "output_type": "display_data"
    }
   ],
   "source": [
    "#extract close price values to get numpy array of values\n",
    "price_list = tsla['Adj. Close'].values\n",
    "\n",
    "#shift price list by one down and replace first entry with na value\n",
    "shifted_prices = np.roll(price_list, shift=1, axis=0)\n",
    "shifted_prices[:1] = np.nan\n",
    "\n",
    "#calculate returns numpy array\n",
    "tsla_returns = ((price_list - shifted_prices)/shifted_prices)*100\n",
    "\n",
    "#plot graph of returns below\n",
    "plt.ylabel(\"% change\")\n",
    "plt.yticks(np.arange(-20,21,2))\n",
    "plt.ylim(-22,22)\n",
    "\n",
    "plt.xlabel(\"Date\")\n",
    "plt.title(\"TSLA Returns\")\n",
    "plt.tight_layout()\n",
    "plt.plot(tsla.index, tsla_returns)\n"
   ]
  },
  {
   "cell_type": "markdown",
   "metadata": {},
   "source": [
    "### Fractional Differencing Part #1: Finding weights & Formula"
   ]
  },
  {
   "cell_type": "markdown",
   "metadata": {},
   "source": [
    "Now that that's out of the way, lets get down to the fun part of this exercise, the implementation for fractional differencing. Looking at the sequence of weights, we recognize something quite useful:\n",
    "\n",
    "   \n",
    "For $k = 1,..., \\infty$, if $w_0 = 1$, the weights can be generated iteratively as:\n",
    "\n",
    "$$w_k = -w_{k-1} \\frac{d-k+1}{k}$$\n",
    "\n",
    "Below we code up the implementation for a weighting function given a differencing factor (d) and length of series (size). (Note: this code is directly taken and slightly changed from the book Advances in Financial Machine Learning. I am not attempting to claim this code as my own, just simply re-formatting it and using it for educational purposes.)\n"
   ]
  },
  {
   "cell_type": "code",
   "execution_count": 6,
   "metadata": {},
   "outputs": [],
   "source": [
    "\"\"\"Computes the weights for our fractionally differenced features up to a given threshold\n",
    "   requirement for fixed-window fractional differencing. \n",
    "    Args:\n",
    "        d: A float representing the differencing factor\n",
    "        length: An int length of series to be differenced\n",
    "        threshold: A float representing the minimum threshold to include weights for\n",
    "    Returns:\n",
    "        A numpy array containing the weights to be applied to our time series\n",
    "\"\"\"\n",
    "def findWeights_FFD(d, length, threshold):\n",
    "    #set first weight to be a 1 and k to be 1\n",
    "    w, k = [1.], 1\n",
    "    w_curr = 1\n",
    "    \n",
    "    #while we still have more weights to process, do the following:\n",
    "    while(k < length):\n",
    "        \n",
    "        w_curr = (-w[-1]*(d-k+1))/k\n",
    "        #if the current weight is below threshold, exit loop\n",
    "        if(abs(w_curr) <= threshold):\n",
    "            \n",
    "            break\n",
    "        #append coefficient to list if it passes above threshold condition\n",
    "        w.append(w_curr)\n",
    "        #increment k\n",
    "        k += 1\n",
    "    #make sure to convert it into a numpy array and reshape from a single row to a single\n",
    "        # column so they can be applied to time-series values easier\n",
    "    w = np.array(w[::-1]).reshape(-1,1)\n",
    "    \n",
    "    return w"
   ]
  },
  {
   "cell_type": "markdown",
   "metadata": {},
   "source": [
    "So, how exactly do we go about fractionally differencing a (finite) time series? Well we can't really because of data limitations (can only have so much computational and memory overhead when doing these computations, however small each one may be). \n",
    "\n",
    "We can compute this using Fixed-Window fractional differencing. Simply, we drop weights when their values drop below a certain threshold that we identified above. Then, we pre-process our  series, multiply the weights by the numbers to difference them by a factor of d and repeat for all valid series values. The function below does this. "
   ]
  },
  {
   "cell_type": "code",
   "execution_count": 7,
   "metadata": {},
   "outputs": [],
   "source": [
    "\"\"\"Computes fractionally differenced series \n",
    "    Args:\n",
    "        d: A float representing the differencing factor (any positive fractional)\n",
    "        series: A pandas dataframe with one or more columns of time-series values to be differenced\n",
    "        threshold: Threshold value past which we ignore weights \n",
    "            (cutoff weight for window)\n",
    "    Returns: \n",
    "        diff_series: A numpy array of differenced series by d. \n",
    "\"\"\"\n",
    "def fracDiff(series, d, threshold = 1e-5):\n",
    "    #compute weights using function above\n",
    "    weights = findWeights_FFD(d, len(series), threshold)\n",
    "    width = len(weights) - 1\n",
    "    \n",
    "    df = {}\n",
    "    #for each series to be differenced, apply weights to appropriate prices and save \n",
    "    for name in series.columns:\n",
    "        \n",
    "        #forward fill through unavailable prices and create a temporary series to hold values\n",
    "        curr_series = series[[name]].fillna(method='ffill').dropna()\n",
    "        df_temp = pd.Series()\n",
    "        \n",
    "        #loop through all values that fall into range to be fractionally differenced\n",
    "        for iloc1 in range(width, curr_series.shape[0]):\n",
    "            \n",
    "            #set values for first and last time-series point to be used in current pass of fractional\n",
    "                #difference\n",
    "            loc0 = curr_series.index[iloc1-width]\n",
    "            loc1 = curr_series.index[iloc1]\n",
    "            \n",
    "            #make sure current value is valid\n",
    "            if not np.isfinite(curr_series.loc[loc1,name]):\n",
    "                continue\n",
    "            \n",
    "            #dot product of weights with values from first and last indices\n",
    "            df_temp[loc1]= np.dot(weights.T, curr_series.loc[loc0:loc1])[0,0]\n",
    "            \n",
    "        df[name] = df_temp.copy(deep=True)\n",
    "    df = pd.concat(df, axis=1)\n",
    "            \n",
    "    return df\n",
    "    "
   ]
  },
  {
   "cell_type": "markdown",
   "metadata": {},
   "source": [
    "Now, this code may seem slightly confusing so I'm going to go through it a little just to make it clear. \n",
    "\n",
    "1. First, find the length of weights that are above our threshold value (essentially, this is the number of time-series values we're going to need to derive each fractionally differenced price. It is also the first index at which we can start fractionally differencing prices since the Fixed-Window Method has a 'Fixed' number of points being used.\n",
    "2. We forward fill any NA values (a more detailed explanation can be found [here](https://pandas.pydata.org/pandas-docs/stable/reference/api/pandas.DataFrame.fillna.html#pandas.DataFrame.fillna) ) and create a temporary dataframe to store our fractionally differenced values.\n",
    "3. We find the first and last indices that will be used in computing our fractional difference and we take the dot product of the weights and respective values.\n"
   ]
  },
  {
   "cell_type": "markdown",
   "metadata": {},
   "source": [
    "### Fractional Differencing Part #2: Test-Run/Sanity Check"
   ]
  },
  {
   "cell_type": "markdown",
   "metadata": {},
   "source": [
    "As a sanity check, I go through an example and plot the results just to make sure the code is doing what I expect it to be. "
   ]
  },
  {
   "cell_type": "code",
   "execution_count": 32,
   "metadata": {},
   "outputs": [
    {
     "data": {
      "text/html": [
       "<div>\n",
       "<style scoped>\n",
       "    .dataframe tbody tr th:only-of-type {\n",
       "        vertical-align: middle;\n",
       "    }\n",
       "\n",
       "    .dataframe tbody tr th {\n",
       "        vertical-align: top;\n",
       "    }\n",
       "\n",
       "    .dataframe thead th {\n",
       "        text-align: right;\n",
       "    }\n",
       "</style>\n",
       "<table border=\"1\" class=\"dataframe\">\n",
       "  <thead>\n",
       "    <tr style=\"text-align: right;\">\n",
       "      <th></th>\n",
       "      <th>Adj. Close</th>\n",
       "    </tr>\n",
       "  </thead>\n",
       "  <tbody>\n",
       "    <tr>\n",
       "      <th>2014-03-05</th>\n",
       "      <td>22.5</td>\n",
       "    </tr>\n",
       "    <tr>\n",
       "      <th>2014-03-06</th>\n",
       "      <td>22.3</td>\n",
       "    </tr>\n",
       "    <tr>\n",
       "      <th>2014-03-07</th>\n",
       "      <td>14.7</td>\n",
       "    </tr>\n",
       "    <tr>\n",
       "      <th>2014-03-10</th>\n",
       "      <td>9.9</td>\n",
       "    </tr>\n",
       "    <tr>\n",
       "      <th>2014-03-11</th>\n",
       "      <td>9.4</td>\n",
       "    </tr>\n",
       "    <tr>\n",
       "      <th>...</th>\n",
       "      <td>...</td>\n",
       "    </tr>\n",
       "    <tr>\n",
       "      <th>2018-03-21</th>\n",
       "      <td>5.8</td>\n",
       "    </tr>\n",
       "    <tr>\n",
       "      <th>2018-03-22</th>\n",
       "      <td>-3.3</td>\n",
       "    </tr>\n",
       "    <tr>\n",
       "      <th>2018-03-23</th>\n",
       "      <td>-7.1</td>\n",
       "    </tr>\n",
       "    <tr>\n",
       "      <th>2018-03-26</th>\n",
       "      <td>0.4</td>\n",
       "    </tr>\n",
       "    <tr>\n",
       "      <th>2018-03-27</th>\n",
       "      <td>-24.3</td>\n",
       "    </tr>\n",
       "  </tbody>\n",
       "</table>\n",
       "<p>1023 rows × 1 columns</p>\n",
       "</div>"
      ],
      "text/plain": [
       "            Adj. Close\n",
       "2014-03-05        22.5\n",
       "2014-03-06        22.3\n",
       "2014-03-07        14.7\n",
       "2014-03-10         9.9\n",
       "2014-03-11         9.4\n",
       "...                ...\n",
       "2018-03-21         5.8\n",
       "2018-03-22        -3.3\n",
       "2018-03-23        -7.1\n",
       "2018-03-26         0.4\n",
       "2018-03-27       -24.3\n",
       "\n",
       "[1023 rows x 1 columns]"
      ]
     },
     "execution_count": 32,
     "metadata": {},
     "output_type": "execute_result"
    }
   ],
   "source": [
    "test_series = tsla[['Adj. Close']]\n",
    "df_result = fracDiff(test_series, 0.5, 1e-5)\n",
    "\n",
    "df_result"
   ]
  },
  {
   "cell_type": "markdown",
   "metadata": {},
   "source": [
    "PHEW! Now that we know it works, lets plot it to see what we get as a result. "
   ]
  },
  {
   "cell_type": "code",
   "execution_count": 27,
   "metadata": {
    "scrolled": true
   },
   "outputs": [
    {
     "data": {
      "image/png": "[encoded data removed]",
      "text/plain": [
       "<Figure size 720x360 with 2 Axes>"
      ]
     },
     "metadata": {
      "needs_background": "light"
     },
     "output_type": "display_data"
    }
   ],
   "source": [
    "fig, ax1 = plt.subplots()\n",
    "\n",
    "color = 'tab:red'\n",
    "ax1.set_xlabel('Date')\n",
    "ax1.set_ylabel('Differenced Prices', color=color)\n",
    "ax1.plot(df_result.index, df_result['Adj. Close'], color=color)\n",
    "\n",
    "ax2 = ax1.twinx()\n",
    "\n",
    "color = 'tab:blue'\n",
    "ax2.set_ylabel('Prices', color = color)\n",
    "ax2.plot(df_result.index, tsla['Adj. Close'].values[-(df_result.shape[0]):], color=color)\n",
    "\n",
    "plt.show()"
   ]
  },
  {
   "cell_type": "markdown",
   "metadata": {},
   "source": [
    "Just a reminder that we dont have (and can never have) a fractionally differenced value for every time series point in our data. Since we need to use the previous n points (n being our width) to compute the n+1'th point, the first n points are unavailable for use to compute fractional differences for (in this method at least, since it is a fixed window). \n",
    "\n",
    "We could adjust our threshold values or differencing parameters but we will soon see how this affects the stationarity of our results. \n",
    "\n",
    "Just to make sure, lets use a few tests of stationarity and take a look at our results for the various values of d. "
   ]
  },
  {
   "cell_type": "markdown",
   "metadata": {},
   "source": [
    "### Dickey-Fuller, Kwiatowski-Phillips-Schmidt-Shin and the Path to Stationarity"
   ]
  },
  {
   "cell_type": "markdown",
   "metadata": {},
   "source": [
    "Before I get into who all these guys are and why they all decided to name their discoveries after themselves (whoever said mathematicians weren't egotistical?), let's take a deeper look at stationarity. \n",
    "\n",
    "Reminding ourselves what this means exactly: \n",
    "\n",
    "*'A stationary time series is one where the mean (average value) and variance (spread of values) is constant over time.'*\n",
    "\n",
    "\n",
    "Although this explanation gives us a rough idea of what stationarity entails, it fails to dive into the details that are key to understanding how we go about testing it. Thus, I provide an explanation from a different angle, what stationarity **Is Not**:\n",
    "\n",
    "*'A non-stationary process (or unit-root process) is a process that contains a stochastic trend over time (a systematic pattern over time). There is no long-run mean or variance.'*\n",
    "\n",
    "\n",
    "What the hell is a unit-root you may ask? I'm glad you asked! I spent some time coming up with an intuitive explanation (with the help of good ol' google) that I think anyone can understand.\n"
   ]
  },
  {
   "cell_type": "markdown",
   "metadata": {},
   "source": [
    "#### Unit Root: An Analogy\n",
    "\n",
    "So lets say you go camping. While wandering around the forest looking for a good campsite, you find a bridge and a river running below it. You decide to cross it and not looking exactly where you're going, you accidentally trip over a wooden plank. The water bottle you were holding jerks out of your hand and into the river.\n",
    "\n",
    "You see it floating slowly under the bridge and decide to take a closer look. You notice that it fell on the left side of the bridge and got taken to the right. You wonder if it would do it again?\n",
    "\n",
    "Lets say the flow along the surface of the water looked like the following:\n",
    "\n",
    "<img src=\"river_flow_1.png\" width= \"500\">"
   ]
  },
  {
   "cell_type": "markdown",
   "metadata": {},
   "source": [
    "The arrows show the direction of flow and are connected by streamlines. The water bottle you drop will tend to follow the streamline in which it falls. BUT (and this is key here), it doesn't exactly. There are random variations along the path since water flow changes over time. This could be due to strong wind, a fish, a large rock in the river or any of the other complex dynamics of flow at play. \n",
    "\n",
    "You can see that regardless of where we end up dropping our water bottle (assuming we did so on the left side of the diagram), it ends up flowing towards the right, although not linearly.\n",
    "\n",
    "The stream inevitably carries the water bottle to the top right, it *trends* over time. Regardless of the random gyrations of the water, the flow of the river accelerates towards a particular point in the top right. (We're almost home clear here!)\n",
    "\n",
    "Associated with the speed of acceleration, is what we call a \"root\". When the size of this root is greater than unity (or mathematically, 1), the series cannot be stationary. "
   ]
  },
  {
   "cell_type": "markdown",
   "metadata": {},
   "source": [
    "#### The ADF and KPSS Tests for stationarity\n",
    "\n",
    "Phew! That wasn't so bad was it? Don't fret over why exactly a unit root means non-stationarity (although if you're interested, [here](https://en.wikipedia.org/wiki/Unit_root) is a link) since it isn't really the purpose of this post. Just know that there are many forms of non-stationarity and a unit root is just one of them (a REALLY important one at that). \n",
    "\n",
    "Now lets get back to the math and take a look at some classical stationarity tests to see how our fractionally differenced series holds up.\n"
   ]
  },
  {
   "cell_type": "markdown",
   "metadata": {},
   "source": [
    "**1.) ADF Test**: This test is used to detect the presence of a unit-root.\n",
    "\n",
    "**2.) KPSS Test**: This test is used to detect the presence of trend-stationarity around a deterministic trend.\n",
    "\n",
    "These two tests are meant to complement each other. By testing both the unit-root and trend-stationarity, it gives us a better idea of where we can categorize the stochastic behaviour of our data. I run both these tests below. "
   ]
  },
  {
   "cell_type": "code",
   "execution_count": 10,
   "metadata": {},
   "outputs": [
    {
     "name": "stdout",
     "output_type": "stream",
     "text": [
      "ADF Test Results: \n",
      "Test Statistic: -6.8762\n",
      "p-value: 0.0000001550\n",
      "Critical Values: \n",
      "\t1%: -4.383\n",
      "\t5%: -3.838\n",
      "\t10%: -3.557\n"
     ]
    }
   ],
   "source": [
    "#Running the adf test and displaying results\n",
    "\n",
    "adf_result = st.adfuller(df_result['Adj. Close'], regression = 'ctt', store = True)\n",
    "\n",
    "print(\"ADF Test Results: \")\n",
    "print(\"Test Statistic: %.4f\" % adf_result[0])\n",
    "print(\"p-value: %.10f\" % adf_result[1])\n",
    "print(\"Critical Values: \")\n",
    "for key, value in adf_result[2].items():\n",
    "    print('\\t%s: %0.3f' % (key, value))\n"
   ]
  },
  {
   "cell_type": "markdown",
   "metadata": {},
   "source": [
    "Now, lets break down our results. What is of most concern to us is our p-value. In this test, our p-value is the following:\n",
    "\n",
    "*Assuming that our series has a unit root, (or is non-stationary) we would obtain these results in 0.0000155% through random-sampling and re-testing. Essentially, there is a very low likelihood that our series is in fact non-stationary*\n",
    "\n",
    "So this is definitely a good thing since such a low p-value is basically telling us there is no unit root (and hence no non-stationary trend in our data).\n",
    "\n",
    "BUT, is that enough? Not quite... We still would like to see if our earlier hypothesis of trend stationarity is consistent, so we turn to the KPSS test. "
   ]
  },
  {
   "cell_type": "code",
   "execution_count": 11,
   "metadata": {},
   "outputs": [
    {
     "name": "stdout",
     "output_type": "stream",
     "text": [
      "KPSS Test Results: \n",
      "Test Statistic: 0.2992\n",
      "p-value: 0.1000000000\n",
      "Critical Values: \n",
      "\t10%: 0.347\n",
      "\t5%: 0.463\n",
      "\t2.5%: 0.574\n",
      "\t1%: 0.739\n"
     ]
    },
    {
     "name": "stderr",
     "output_type": "stream",
     "text": [
      "/Users/28422/Desktop/Blog_files/jupyter-env/lib/python3.7/site-packages/statsmodels/tsa/stattools.py:1278: InterpolationWarning: p-value is greater than the indicated p-value\n",
      "  warn(\"p-value is greater than the indicated p-value\", InterpolationWarning)\n"
     ]
    }
   ],
   "source": [
    "#Running the kpss test and displaying results\n",
    "kpss_result = st.kpss(df_result['Adj. Close'], store=True)\n",
    "\n",
    "print(\"KPSS Test Results: \")\n",
    "print(\"Test Statistic: %.4f\" % kpss_result[0])\n",
    "print(\"p-value: %.10f\" % kpss_result[1])\n",
    "print(\"Critical Values: \")\n",
    "for key, value in kpss_result[2].items():\n",
    "    print('\\t%s: %0.3f' % (key, value))"
   ]
  },
  {
   "cell_type": "markdown",
   "metadata": {},
   "source": [
    "(Note, the warning came because the true p-value is actually above 0.1 but this only further helps the case we are trying to prove).\n",
    "\n",
    "In this case, we can interpret our p-value as the following:\n",
    "\n",
    "*Assuming our series is trend-stationary, we would obtain these results in at least 10% of our results through random-sampling and re-testing. (The at-least 10% is due to the fact that the test cannot give us p-values higher than 0.10 or 10%).*\n",
    "\n",
    "Although at least 10% doesn't sound like a whole lot, it definitely is in statistics. This test also further shows that our series is in-fact very likely to be trend-stationary. "
   ]
  },
  {
   "cell_type": "markdown",
   "metadata": {},
   "source": [
    "### Varying Starting Conditions: How do test results fare?"
   ]
  },
  {
   "cell_type": "markdown",
   "metadata": {},
   "source": [
    "So, whats next? Well, I am a bit curious to see how our test results change as our differencing parameter changes. So, below, lets look at how changing our threshold value (for fractional differencing coefficients) and differencing factors change the results of the adf test results. \n",
    "\n",
    "I also decide to take a look at how these parameters change the number of data points we are able to difference (or the length of the differenced series). "
   ]
  },
  {
   "cell_type": "code",
   "execution_count": 12,
   "metadata": {},
   "outputs": [
    {
     "data": {
      "text/html": [
       "<div>\n",
       "<style scoped>\n",
       "    .dataframe tbody tr th:only-of-type {\n",
       "        vertical-align: middle;\n",
       "    }\n",
       "\n",
       "    .dataframe tbody tr th {\n",
       "        vertical-align: top;\n",
       "    }\n",
       "\n",
       "    .dataframe thead th {\n",
       "        text-align: right;\n",
       "    }\n",
       "</style>\n",
       "<table border=\"1\" class=\"dataframe\">\n",
       "  <thead>\n",
       "    <tr style=\"text-align: right;\">\n",
       "      <th></th>\n",
       "      <th>0.001</th>\n",
       "      <th>0.0009</th>\n",
       "      <th>0.0007</th>\n",
       "      <th>0.0005</th>\n",
       "      <th>0.0003</th>\n",
       "      <th>0.0001</th>\n",
       "      <th>9e-05</th>\n",
       "      <th>7e-05</th>\n",
       "      <th>5e-05</th>\n",
       "      <th>3e-05</th>\n",
       "    </tr>\n",
       "  </thead>\n",
       "  <tbody>\n",
       "    <tr>\n",
       "      <th>0.80000</th>\n",
       "      <td>-10.94652</td>\n",
       "      <td>-11.00533</td>\n",
       "      <td>-11.04233</td>\n",
       "      <td>-11.08483</td>\n",
       "      <td>-11.07969</td>\n",
       "      <td>-10.95621</td>\n",
       "      <td>-10.93916</td>\n",
       "      <td>-10.89717</td>\n",
       "      <td>-10.84898</td>\n",
       "      <td>-10.71649</td>\n",
       "    </tr>\n",
       "    <tr>\n",
       "      <th>0.75000</th>\n",
       "      <td>-10.21107</td>\n",
       "      <td>-10.24159</td>\n",
       "      <td>-10.32522</td>\n",
       "      <td>-10.37026</td>\n",
       "      <td>-10.37648</td>\n",
       "      <td>-10.25487</td>\n",
       "      <td>-10.23890</td>\n",
       "      <td>-10.20903</td>\n",
       "      <td>-10.11115</td>\n",
       "      <td>-9.94652</td>\n",
       "    </tr>\n",
       "    <tr>\n",
       "      <th>0.70000</th>\n",
       "      <td>-9.48848</td>\n",
       "      <td>-9.51605</td>\n",
       "      <td>-9.59684</td>\n",
       "      <td>-9.66404</td>\n",
       "      <td>-9.68291</td>\n",
       "      <td>-9.57725</td>\n",
       "      <td>-9.53761</td>\n",
       "      <td>-9.46933</td>\n",
       "      <td>-9.35830</td>\n",
       "      <td>-9.17454</td>\n",
       "    </tr>\n",
       "    <tr>\n",
       "      <th>0.65000</th>\n",
       "      <td>-8.77627</td>\n",
       "      <td>-8.79895</td>\n",
       "      <td>-8.90477</td>\n",
       "      <td>-8.97096</td>\n",
       "      <td>-8.99766</td>\n",
       "      <td>-8.84903</td>\n",
       "      <td>-8.81612</td>\n",
       "      <td>-8.73200</td>\n",
       "      <td>-8.61191</td>\n",
       "      <td>-8.39907</td>\n",
       "    </tr>\n",
       "    <tr>\n",
       "      <th>0.60000</th>\n",
       "      <td>-8.07450</td>\n",
       "      <td>-8.11659</td>\n",
       "      <td>-8.21123</td>\n",
       "      <td>-8.28918</td>\n",
       "      <td>-8.32554</td>\n",
       "      <td>-8.13446</td>\n",
       "      <td>-8.09516</td>\n",
       "      <td>-8.00774</td>\n",
       "      <td>-7.87333</td>\n",
       "      <td>-7.61759</td>\n",
       "    </tr>\n",
       "    <tr>\n",
       "      <th>...</th>\n",
       "      <td>...</td>\n",
       "      <td>...</td>\n",
       "      <td>...</td>\n",
       "      <td>...</td>\n",
       "      <td>...</td>\n",
       "      <td>...</td>\n",
       "      <td>...</td>\n",
       "      <td>...</td>\n",
       "      <td>...</td>\n",
       "      <td>...</td>\n",
       "    </tr>\n",
       "    <tr>\n",
       "      <th>0.40000</th>\n",
       "      <td>-5.61061</td>\n",
       "      <td>-5.64819</td>\n",
       "      <td>-5.73725</td>\n",
       "      <td>-5.82995</td>\n",
       "      <td>-5.81907</td>\n",
       "      <td>-5.45001</td>\n",
       "      <td>-5.39168</td>\n",
       "      <td>-5.23933</td>\n",
       "      <td>-5.03168</td>\n",
       "      <td>-5.79583</td>\n",
       "    </tr>\n",
       "    <tr>\n",
       "      <th>0.35000</th>\n",
       "      <td>-5.07583</td>\n",
       "      <td>-5.11660</td>\n",
       "      <td>-5.19699</td>\n",
       "      <td>-5.29747</td>\n",
       "      <td>-5.24415</td>\n",
       "      <td>-4.84901</td>\n",
       "      <td>-4.78709</td>\n",
       "      <td>-4.62653</td>\n",
       "      <td>-4.47523</td>\n",
       "      <td>-5.40008</td>\n",
       "    </tr>\n",
       "    <tr>\n",
       "      <th>0.30000</th>\n",
       "      <td>-4.57857</td>\n",
       "      <td>-4.62001</td>\n",
       "      <td>-4.71025</td>\n",
       "      <td>-4.77921</td>\n",
       "      <td>-4.72640</td>\n",
       "      <td>-4.29549</td>\n",
       "      <td>-4.23193</td>\n",
       "      <td>-4.09259</td>\n",
       "      <td>-4.91650</td>\n",
       "      <td>-4.45010</td>\n",
       "    </tr>\n",
       "    <tr>\n",
       "      <th>0.25000</th>\n",
       "      <td>-4.12678</td>\n",
       "      <td>-4.15993</td>\n",
       "      <td>-4.26787</td>\n",
       "      <td>-4.28243</td>\n",
       "      <td>-4.24922</td>\n",
       "      <td>-4.35738</td>\n",
       "      <td>-4.29567</td>\n",
       "      <td>-4.23346</td>\n",
       "      <td>-4.76576</td>\n",
       "      <td>-3.28458</td>\n",
       "    </tr>\n",
       "    <tr>\n",
       "      <th>0.20000</th>\n",
       "      <td>-3.70527</td>\n",
       "      <td>-3.73539</td>\n",
       "      <td>-4.29068</td>\n",
       "      <td>-4.30280</td>\n",
       "      <td>-4.44615</td>\n",
       "      <td>-3.95974</td>\n",
       "      <td>-3.92312</td>\n",
       "      <td>-4.21576</td>\n",
       "      <td>-4.64376</td>\n",
       "      <td>-3.54100</td>\n",
       "    </tr>\n",
       "  </tbody>\n",
       "</table>\n",
       "<p>13 rows × 10 columns</p>\n",
       "</div>"
      ],
      "text/plain": [
       "          0.00100   0.00090   0.00070   0.00050   0.00030   0.00010   0.00009  \\\n",
       "0.80000 -10.94652 -11.00533 -11.04233 -11.08483 -11.07969 -10.95621 -10.93916   \n",
       "0.75000 -10.21107 -10.24159 -10.32522 -10.37026 -10.37648 -10.25487 -10.23890   \n",
       "0.70000  -9.48848  -9.51605  -9.59684  -9.66404  -9.68291  -9.57725  -9.53761   \n",
       "0.65000  -8.77627  -8.79895  -8.90477  -8.97096  -8.99766  -8.84903  -8.81612   \n",
       "0.60000  -8.07450  -8.11659  -8.21123  -8.28918  -8.32554  -8.13446  -8.09516   \n",
       "...           ...       ...       ...       ...       ...       ...       ...   \n",
       "0.40000  -5.61061  -5.64819  -5.73725  -5.82995  -5.81907  -5.45001  -5.39168   \n",
       "0.35000  -5.07583  -5.11660  -5.19699  -5.29747  -5.24415  -4.84901  -4.78709   \n",
       "0.30000  -4.57857  -4.62001  -4.71025  -4.77921  -4.72640  -4.29549  -4.23193   \n",
       "0.25000  -4.12678  -4.15993  -4.26787  -4.28243  -4.24922  -4.35738  -4.29567   \n",
       "0.20000  -3.70527  -3.73539  -4.29068  -4.30280  -4.44615  -3.95974  -3.92312   \n",
       "\n",
       "          0.00007   0.00005   0.00003  \n",
       "0.80000 -10.89717 -10.84898 -10.71649  \n",
       "0.75000 -10.20903 -10.11115  -9.94652  \n",
       "0.70000  -9.46933  -9.35830  -9.17454  \n",
       "0.65000  -8.73200  -8.61191  -8.39907  \n",
       "0.60000  -8.00774  -7.87333  -7.61759  \n",
       "...           ...       ...       ...  \n",
       "0.40000  -5.23933  -5.03168  -5.79583  \n",
       "0.35000  -4.62653  -4.47523  -5.40008  \n",
       "0.30000  -4.09259  -4.91650  -4.45010  \n",
       "0.25000  -4.23346  -4.76576  -3.28458  \n",
       "0.20000  -4.21576  -4.64376  -3.54100  \n",
       "\n",
       "[13 rows x 10 columns]"
      ]
     },
     "metadata": {},
     "output_type": "display_data"
    },
    {
     "data": {
      "text/html": [
       "<div>\n",
       "<style scoped>\n",
       "    .dataframe tbody tr th:only-of-type {\n",
       "        vertical-align: middle;\n",
       "    }\n",
       "\n",
       "    .dataframe tbody tr th {\n",
       "        vertical-align: top;\n",
       "    }\n",
       "\n",
       "    .dataframe thead th {\n",
       "        text-align: right;\n",
       "    }\n",
       "</style>\n",
       "<table border=\"1\" class=\"dataframe\">\n",
       "  <thead>\n",
       "    <tr style=\"text-align: right;\">\n",
       "      <th></th>\n",
       "      <th>0.001</th>\n",
       "      <th>0.0009</th>\n",
       "      <th>0.0007</th>\n",
       "      <th>0.0005</th>\n",
       "      <th>0.0003</th>\n",
       "      <th>0.0001</th>\n",
       "      <th>9e-05</th>\n",
       "      <th>7e-05</th>\n",
       "      <th>5e-05</th>\n",
       "      <th>3e-05</th>\n",
       "    </tr>\n",
       "  </thead>\n",
       "  <tbody>\n",
       "    <tr>\n",
       "      <th>0.80000</th>\n",
       "      <td>1932</td>\n",
       "      <td>1930</td>\n",
       "      <td>1928</td>\n",
       "      <td>1923</td>\n",
       "      <td>1915</td>\n",
       "      <td>1886</td>\n",
       "      <td>1882</td>\n",
       "      <td>1872</td>\n",
       "      <td>1856</td>\n",
       "      <td>1826</td>\n",
       "    </tr>\n",
       "    <tr>\n",
       "      <th>0.75000</th>\n",
       "      <td>1928</td>\n",
       "      <td>1927</td>\n",
       "      <td>1923</td>\n",
       "      <td>1918</td>\n",
       "      <td>1907</td>\n",
       "      <td>1871</td>\n",
       "      <td>1866</td>\n",
       "      <td>1853</td>\n",
       "      <td>1833</td>\n",
       "      <td>1793</td>\n",
       "    </tr>\n",
       "    <tr>\n",
       "      <th>0.70000</th>\n",
       "      <td>1924</td>\n",
       "      <td>1923</td>\n",
       "      <td>1919</td>\n",
       "      <td>1912</td>\n",
       "      <td>1899</td>\n",
       "      <td>1853</td>\n",
       "      <td>1847</td>\n",
       "      <td>1831</td>\n",
       "      <td>1805</td>\n",
       "      <td>1754</td>\n",
       "    </tr>\n",
       "    <tr>\n",
       "      <th>0.65000</th>\n",
       "      <td>1920</td>\n",
       "      <td>1919</td>\n",
       "      <td>1913</td>\n",
       "      <td>1905</td>\n",
       "      <td>1890</td>\n",
       "      <td>1833</td>\n",
       "      <td>1825</td>\n",
       "      <td>1805</td>\n",
       "      <td>1772</td>\n",
       "      <td>1708</td>\n",
       "    </tr>\n",
       "    <tr>\n",
       "      <th>0.60000</th>\n",
       "      <td>1916</td>\n",
       "      <td>1914</td>\n",
       "      <td>1908</td>\n",
       "      <td>1898</td>\n",
       "      <td>1879</td>\n",
       "      <td>1810</td>\n",
       "      <td>1800</td>\n",
       "      <td>1775</td>\n",
       "      <td>1734</td>\n",
       "      <td>1653</td>\n",
       "    </tr>\n",
       "    <tr>\n",
       "      <th>...</th>\n",
       "      <td>...</td>\n",
       "      <td>...</td>\n",
       "      <td>...</td>\n",
       "      <td>...</td>\n",
       "      <td>...</td>\n",
       "      <td>...</td>\n",
       "      <td>...</td>\n",
       "      <td>...</td>\n",
       "      <td>...</td>\n",
       "      <td>...</td>\n",
       "    </tr>\n",
       "    <tr>\n",
       "      <th>0.40000</th>\n",
       "      <td>1895</td>\n",
       "      <td>1891</td>\n",
       "      <td>1879</td>\n",
       "      <td>1860</td>\n",
       "      <td>1821</td>\n",
       "      <td>1668</td>\n",
       "      <td>1646</td>\n",
       "      <td>1586</td>\n",
       "      <td>1488</td>\n",
       "      <td>1284</td>\n",
       "    </tr>\n",
       "    <tr>\n",
       "      <th>0.35000</th>\n",
       "      <td>1889</td>\n",
       "      <td>1884</td>\n",
       "      <td>1871</td>\n",
       "      <td>1849</td>\n",
       "      <td>1802</td>\n",
       "      <td>1618</td>\n",
       "      <td>1591</td>\n",
       "      <td>1518</td>\n",
       "      <td>1395</td>\n",
       "      <td>1141</td>\n",
       "    </tr>\n",
       "    <tr>\n",
       "      <th>0.30000</th>\n",
       "      <td>1884</td>\n",
       "      <td>1878</td>\n",
       "      <td>1863</td>\n",
       "      <td>1837</td>\n",
       "      <td>1783</td>\n",
       "      <td>1562</td>\n",
       "      <td>1530</td>\n",
       "      <td>1440</td>\n",
       "      <td>1290</td>\n",
       "      <td>973</td>\n",
       "    </tr>\n",
       "    <tr>\n",
       "      <th>0.25000</th>\n",
       "      <td>1879</td>\n",
       "      <td>1873</td>\n",
       "      <td>1856</td>\n",
       "      <td>1827</td>\n",
       "      <td>1765</td>\n",
       "      <td>1505</td>\n",
       "      <td>1466</td>\n",
       "      <td>1358</td>\n",
       "      <td>1176</td>\n",
       "      <td>785</td>\n",
       "    </tr>\n",
       "    <tr>\n",
       "      <th>0.20000</th>\n",
       "      <td>1877</td>\n",
       "      <td>1870</td>\n",
       "      <td>1851</td>\n",
       "      <td>1820</td>\n",
       "      <td>1751</td>\n",
       "      <td>1453</td>\n",
       "      <td>1407</td>\n",
       "      <td>1281</td>\n",
       "      <td>1065</td>\n",
       "      <td>596</td>\n",
       "    </tr>\n",
       "  </tbody>\n",
       "</table>\n",
       "<p>13 rows × 10 columns</p>\n",
       "</div>"
      ],
      "text/plain": [
       "         0.00100  0.00090  0.00070  0.00050  0.00030  0.00010  0.00009  \\\n",
       "0.80000     1932     1930     1928     1923     1915     1886     1882   \n",
       "0.75000     1928     1927     1923     1918     1907     1871     1866   \n",
       "0.70000     1924     1923     1919     1912     1899     1853     1847   \n",
       "0.65000     1920     1919     1913     1905     1890     1833     1825   \n",
       "0.60000     1916     1914     1908     1898     1879     1810     1800   \n",
       "...          ...      ...      ...      ...      ...      ...      ...   \n",
       "0.40000     1895     1891     1879     1860     1821     1668     1646   \n",
       "0.35000     1889     1884     1871     1849     1802     1618     1591   \n",
       "0.30000     1884     1878     1863     1837     1783     1562     1530   \n",
       "0.25000     1879     1873     1856     1827     1765     1505     1466   \n",
       "0.20000     1877     1870     1851     1820     1751     1453     1407   \n",
       "\n",
       "         0.00007  0.00005  0.00003  \n",
       "0.80000     1872     1856     1826  \n",
       "0.75000     1853     1833     1793  \n",
       "0.70000     1831     1805     1754  \n",
       "0.65000     1805     1772     1708  \n",
       "0.60000     1775     1734     1653  \n",
       "...          ...      ...      ...  \n",
       "0.40000     1586     1488     1284  \n",
       "0.35000     1518     1395     1141  \n",
       "0.30000     1440     1290      973  \n",
       "0.25000     1358     1176      785  \n",
       "0.20000     1281     1065      596  \n",
       "\n",
       "[13 rows x 10 columns]"
      ]
     },
     "metadata": {},
     "output_type": "display_data"
    }
   ],
   "source": [
    "pd.options.display.float_format = '{:.5f}'.format\n",
    "\n",
    "#the 130 combinations to test, varying values of our thresholds and differencing factors\n",
    "thresh_values = [1e-3, 9e-4, 7e-4, 5e-4, 3e-4, 1e-4, 9e-5, 7e-5, 5e-5, 3e-5]\n",
    "diff_values = [0.8, 0.75, 0.7, 0.65, 0.6, 0.55, 0.5, 0.45, 0.4, 0.35, 0.3, 0.25, 0.2]\n",
    "\n",
    "#dataframe to hold results\n",
    "pval_hyperparam_df = pd.DataFrame(0.1, columns = thresh_values, index=diff_values)\n",
    "\n",
    "#dataframe to hold lengths \n",
    "lengths_df = pd.DataFrame(1, columns = thresh_values, index = diff_values)\n",
    "\n",
    "#to keep track of column and row indices when placing results in dataframe\n",
    "col = 0\n",
    "row = 0\n",
    "\n",
    "#cycle through each combination of threshold values and diff values\n",
    "    # and generate adf test-statistics for each combination\n",
    "for i in thresh_values:\n",
    "    for j in diff_values:\n",
    "        \n",
    "        #fractionally difference series and store series lengths\n",
    "        test_diff_series = fracDiff(test_series, j, i)\n",
    "        lengths_df.iat[row,col] = test_diff_series.shape[0]\n",
    "        \n",
    "        #run and collect adf fuller test\n",
    "        test_adf_result = st.adfuller(test_diff_series['Adj. Close'], regression = 'ctt', store = True)\n",
    "        \n",
    "        pval_hyperparam_df.iat[row, col] = test_adf_result[0]\n",
    "        \n",
    "        row += 1\n",
    "    row = 0\n",
    "    col += 1\n",
    "    \n",
    "#display our results\n",
    "display(pval_hyperparam_df)\n",
    "display(lengths_df)"
   ]
  },
  {
   "cell_type": "code",
   "execution_count": 13,
   "metadata": {
    "scrolled": true
   },
   "outputs": [
    {
     "data": {
      "image/png": "[encoded data removed]",
      "text/plain": [
       "<Figure size 432x288 with 2 Axes>"
      ]
     },
     "metadata": {
      "needs_background": "light"
     },
     "output_type": "display_data"
    }
   ],
   "source": [
    "#Heatmap plot just so we get a better idea of how these changes are happening\n",
    "heatmap = sns.heatmap(pval_hyperparam_df, vmin=0, vmax=-12, annot=True)"
   ]
  },
  {
   "cell_type": "markdown",
   "metadata": {},
   "source": [
    "We see that higher amounts of differencing do typically lead to much more negative test-statistics (which translate to very low p-values).  All in all, this basically tells us that as we increase our differencing factor  our series becomes more stationary. This would make sense since we typically take first differences (d=1) to get returns which are considered stationary. \n",
    "\n",
    "What this chart highlights is the fact that we don't actually have to overly difference a series to get trend-stationarity in the underlying series. \n",
    "\n",
    "Also notice that lowering our threshold, holding the differencing-factor constant, lowers the number of observations we can difference (and this is much more pronounced for lower differencing factors since the values converge much quicker). The same can be said for holding our threshold constant and decreasing our differencing factor. "
   ]
  },
  {
   "cell_type": "markdown",
   "metadata": {},
   "source": [
    "### Pitfalls, Limitations, Conclusions"
   ]
  },
  {
   "cell_type": "markdown",
   "metadata": {},
   "source": [
    "So, why do we need to be careful about what we've been studying here? Well, for the ADF test in particular, testing for a unit-root and testing for trend-stationarity aren't exactly the same thing. The weird thing is, it is possible for a time series to be non-stationary but have no unit root. \n",
    "\n",
    "Trend-stationary tests (like the KPSS test) are really looking for time-series convergence around a certain mean, and this mean can grow or shrink over time. Unit root processes however, assume that shocks to our series have a permanent impact. \n",
    "\n",
    "Also, in the presence of time-varying variance (which is the case in some of the computed examples above), our results becomes less robust (although this can be easily fixed by conducting other unit root tests such as the Phillips-Peron test that is more robust to heteroskedasticity). "
   ]
  },
  {
   "cell_type": "markdown",
   "metadata": {},
   "source": [
    "#### Final Thoughts"
   ]
  },
  {
   "cell_type": "markdown",
   "metadata": {},
   "source": [
    "So, what exactly has this series of posts shown? Virtually all finance papers apply integer differencing (a factor of 1) and is usually overkill for most financial time-series. This over-differencing causes most if not all memory to be lost, leaving us very little with regard to information in using prices in statistical models. \n",
    "\n",
    "I'll conclude with a thought that radically shifted my perspective on quantitative trading:\n",
    "\n",
    "\n",
    "It's important to think about quantitative trading from a statistical framework. The price path you see in a chart is simply a realized price path, generated from an underlying distribution (that we, unfortunately, don't know much about). Going forward, under repeated sampling, we have to assume that other price paths are also very likely. \n",
    "\n",
    "Thinking about equity curves and time-series paths in this manner definitely make things more confusing but solidify why statistical ideas, although complex on the surface, are so useful and powerful in giving quants an edge. "
   ]
  },
  {
   "cell_type": "code",
   "execution_count": null,
   "metadata": {},
   "outputs": [],
   "source": []
  }
 ],
 "metadata": {
  "kernelspec": {
   "display_name": "Python 2",
   "language": "python",
   "name": "python2"
  },
  "language_info": {
   "codemirror_mode": {
    "name": "ipython",
    "version": 3
   },
   "file_extension": ".py",
   "mimetype": "text/x-python",
   "name": "python",
   "nbconvert_exporter": "python",
   "pygments_lexer": "ipython3",
   "version": "3.7.2"
  }
 },
 "nbformat": 4,
 "nbformat_minor": 2
}
