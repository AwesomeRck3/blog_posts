{
 "cells": [
  {
   "cell_type": "markdown",
   "metadata": {},
   "source": [
    "This is the Jupyter notebook associated with the 'Welcome and Introduction to Fractional Differencing' post on the Kid Quant blog. Below, I generate all the tables/graphs I use to complete the post as well as any other functions/computations. \n",
    "\n",
    "I did my best to try and comment on most of my code (at least for now) just in case we have any python newbies out there interested. \n",
    "\n",
    "For now, I'll be using Quandl's API to get end of day prices for any examples I go through below. "
   ]
  },
  {
   "cell_type": "markdown",
   "metadata": {},
   "source": [
    "### Setup"
   ]
  },
  {
   "cell_type": "code",
   "execution_count": 7,
   "metadata": {},
   "outputs": [],
   "source": [
    "#import all necessary libraries for analysis\n",
    "import math\n",
    "import numpy as np\n",
    "import pandas as pd\n",
    "import quandl\n",
    "\n",
    "#plotting libraries\n",
    "from matplotlib import cm\n",
    "from matplotlib import gridspec\n",
    "from matplotlib import pyplot as plt\n",
    "\n",
    "pd.options.display.max_rows = 10\n",
    "pd.options.display.float_format = '{:.1f}'.format\n",
    "\n",
    "import os"
   ]
  },
  {
   "cell_type": "code",
   "execution_count": 8,
   "metadata": {},
   "outputs": [],
   "source": [
    "#set API key\n",
    "quandl.ApiConfig.api_key = os.environ.get('quandl_api_key')"
   ]
  },
  {
   "cell_type": "code",
   "execution_count": 9,
   "metadata": {},
   "outputs": [
    {
     "data": {
      "text/html": [
       "<div>\n",
       "<style scoped>\n",
       "    .dataframe tbody tr th:only-of-type {\n",
       "        vertical-align: middle;\n",
       "    }\n",
       "\n",
       "    .dataframe tbody tr th {\n",
       "        vertical-align: top;\n",
       "    }\n",
       "\n",
       "    .dataframe thead th {\n",
       "        text-align: right;\n",
       "    }\n",
       "</style>\n",
       "<table border=\"1\" class=\"dataframe\">\n",
       "  <thead>\n",
       "    <tr style=\"text-align: right;\">\n",
       "      <th></th>\n",
       "      <th>Open</th>\n",
       "      <th>High</th>\n",
       "      <th>Low</th>\n",
       "      <th>Close</th>\n",
       "      <th>Volume</th>\n",
       "      <th>Ex-Dividend</th>\n",
       "      <th>Split Ratio</th>\n",
       "      <th>Adj. Open</th>\n",
       "      <th>Adj. High</th>\n",
       "      <th>Adj. Low</th>\n",
       "      <th>Adj. Close</th>\n",
       "      <th>Adj. Volume</th>\n",
       "    </tr>\n",
       "    <tr>\n",
       "      <th>Date</th>\n",
       "      <th></th>\n",
       "      <th></th>\n",
       "      <th></th>\n",
       "      <th></th>\n",
       "      <th></th>\n",
       "      <th></th>\n",
       "      <th></th>\n",
       "      <th></th>\n",
       "      <th></th>\n",
       "      <th></th>\n",
       "      <th></th>\n",
       "      <th></th>\n",
       "    </tr>\n",
       "  </thead>\n",
       "  <tbody>\n",
       "    <tr>\n",
       "      <th>2010-06-29</th>\n",
       "      <td>19.0</td>\n",
       "      <td>25.0</td>\n",
       "      <td>17.5</td>\n",
       "      <td>23.9</td>\n",
       "      <td>18766300.0</td>\n",
       "      <td>0.0</td>\n",
       "      <td>1.0</td>\n",
       "      <td>19.0</td>\n",
       "      <td>25.0</td>\n",
       "      <td>17.5</td>\n",
       "      <td>23.9</td>\n",
       "      <td>18766300.0</td>\n",
       "    </tr>\n",
       "    <tr>\n",
       "      <th>2010-06-30</th>\n",
       "      <td>25.8</td>\n",
       "      <td>30.4</td>\n",
       "      <td>23.3</td>\n",
       "      <td>23.8</td>\n",
       "      <td>17187100.0</td>\n",
       "      <td>0.0</td>\n",
       "      <td>1.0</td>\n",
       "      <td>25.8</td>\n",
       "      <td>30.4</td>\n",
       "      <td>23.3</td>\n",
       "      <td>23.8</td>\n",
       "      <td>17187100.0</td>\n",
       "    </tr>\n",
       "    <tr>\n",
       "      <th>2010-07-01</th>\n",
       "      <td>25.0</td>\n",
       "      <td>25.9</td>\n",
       "      <td>20.3</td>\n",
       "      <td>22.0</td>\n",
       "      <td>8218800.0</td>\n",
       "      <td>0.0</td>\n",
       "      <td>1.0</td>\n",
       "      <td>25.0</td>\n",
       "      <td>25.9</td>\n",
       "      <td>20.3</td>\n",
       "      <td>22.0</td>\n",
       "      <td>8218800.0</td>\n",
       "    </tr>\n",
       "    <tr>\n",
       "      <th>2010-07-02</th>\n",
       "      <td>23.0</td>\n",
       "      <td>23.1</td>\n",
       "      <td>18.7</td>\n",
       "      <td>19.2</td>\n",
       "      <td>5139800.0</td>\n",
       "      <td>0.0</td>\n",
       "      <td>1.0</td>\n",
       "      <td>23.0</td>\n",
       "      <td>23.1</td>\n",
       "      <td>18.7</td>\n",
       "      <td>19.2</td>\n",
       "      <td>5139800.0</td>\n",
       "    </tr>\n",
       "    <tr>\n",
       "      <th>2010-07-06</th>\n",
       "      <td>20.0</td>\n",
       "      <td>20.0</td>\n",
       "      <td>15.8</td>\n",
       "      <td>16.1</td>\n",
       "      <td>6866900.0</td>\n",
       "      <td>0.0</td>\n",
       "      <td>1.0</td>\n",
       "      <td>20.0</td>\n",
       "      <td>20.0</td>\n",
       "      <td>15.8</td>\n",
       "      <td>16.1</td>\n",
       "      <td>6866900.0</td>\n",
       "    </tr>\n",
       "  </tbody>\n",
       "</table>\n",
       "</div>"
      ],
      "text/plain": [
       "            Open  High  Low  Close     Volume  Ex-Dividend  Split Ratio  \\\n",
       "Date                                                                      \n",
       "2010-06-29  19.0  25.0 17.5   23.9 18766300.0          0.0          1.0   \n",
       "2010-06-30  25.8  30.4 23.3   23.8 17187100.0          0.0          1.0   \n",
       "2010-07-01  25.0  25.9 20.3   22.0  8218800.0          0.0          1.0   \n",
       "2010-07-02  23.0  23.1 18.7   19.2  5139800.0          0.0          1.0   \n",
       "2010-07-06  20.0  20.0 15.8   16.1  6866900.0          0.0          1.0   \n",
       "\n",
       "            Adj. Open  Adj. High  Adj. Low  Adj. Close  Adj. Volume  \n",
       "Date                                                                 \n",
       "2010-06-29       19.0       25.0      17.5        23.9   18766300.0  \n",
       "2010-06-30       25.8       30.4      23.3        23.8   17187100.0  \n",
       "2010-07-01       25.0       25.9      20.3        22.0    8218800.0  \n",
       "2010-07-02       23.0       23.1      18.7        19.2    5139800.0  \n",
       "2010-07-06       20.0       20.0      15.8        16.1    6866900.0  "
      ]
     },
     "execution_count": 9,
     "metadata": {},
     "output_type": "execute_result"
    }
   ],
   "source": [
    "tsla = quandl.get('WIKI/TSLA')\n",
    "tsla.head(5)"
   ]
  },
  {
   "cell_type": "markdown",
   "metadata": {},
   "source": [
    "First, lets just create a simple time-series graph of daily TSLA stock prices below."
   ]
  },
  {
   "cell_type": "code",
   "execution_count": 10,
   "metadata": {},
   "outputs": [
    {
     "data": {
      "text/plain": [
       "[<matplotlib.lines.Line2D at 0x112fde510>]"
      ]
     },
     "execution_count": 10,
     "metadata": {},
     "output_type": "execute_result"
    },
    {
     "data": {
      "image/png": "[encoded data removed]",
      "text/plain": [
       "<Figure size 432x288 with 1 Axes>"
      ]
     },
     "metadata": {
      "needs_background": "light"
     },
     "output_type": "display_data"
    }
   ],
   "source": [
    "plt.ylabel(\"Adj. Close Price\")\n",
    "plt.xlabel(\"Date\")\n",
    "plt.title(\"TSLA Stock Price\")\n",
    "plt.tight_layout()\n",
    "plt.plot(tsla.index, tsla['Adj. Close'])"
   ]
  },
  {
   "cell_type": "markdown",
   "metadata": {},
   "source": [
    "Mean & Variance formulas for each respective observation $x_i$\n",
    "\n",
    "Mean $$ \\mu = \\frac{\\sum_{i=1}^{n}x_i}{n}$$\n",
    "\n",
    "Variance $$\\sigma^2 = \\frac{\\sum_{i=1}^{n}(x_i - \\mu)^2} {n}$$"
   ]
  },
  {
   "cell_type": "markdown",
   "metadata": {},
   "source": [
    "Below, using numpy to optimize finding returns (returns list) of Tesla prices"
   ]
  },
  {
   "cell_type": "code",
   "execution_count": 11,
   "metadata": {},
   "outputs": [
    {
     "data": {
      "text/plain": [
       "[<matplotlib.lines.Line2D at 0x116023bd0>]"
      ]
     },
     "execution_count": 11,
     "metadata": {},
     "output_type": "execute_result"
    },
    {
     "data": {
      "image/png": "[encoded data removed]",
      "text/plain": [
       "<Figure size 432x288 with 1 Axes>"
      ]
     },
     "metadata": {
      "needs_background": "light"
     },
     "output_type": "display_data"
    }
   ],
   "source": [
    "#extract close price values to get numpy array of values\n",
    "price_list = tsla['Adj. Close'].values\n",
    "\n",
    "#shift price list by one down and replace first entry with na value\n",
    "shifted_prices = np.roll(price_list, shift=1, axis=0)\n",
    "shifted_prices[:1] = np.nan\n",
    "\n",
    "#calculate returns numpy array\n",
    "tsla_returns = ((price_list - shifted_prices)/shifted_prices)*100\n",
    "\n",
    "#plot graph of returns below\n",
    "plt.ylabel(\"% change\")\n",
    "plt.yticks(np.arange(-20,21,2))\n",
    "plt.ylim(-22,22)\n",
    "\n",
    "plt.xlabel(\"Date\")\n",
    "plt.title(\"TSLA Returns\")\n",
    "plt.tight_layout()\n",
    "plt.plot(tsla.index, tsla_returns)\n"
   ]
  },
  {
   "cell_type": "markdown",
   "metadata": {},
   "source": [
    "Now that that's out of the way, lets get down to the fun part of this exercise, the implementation for fractional differencing. Looking at the sequence of weights below, we recognize something quite useful:\n",
    "\n",
    "   $$(INSERT WEIGHT SEQUENCE HERE)$$\n",
    "   \n",
    "For $k = 0,..., \\infty$, if $w_0 = 1$, the weights can be generated iteratively as:\n",
    "\n",
    "$$w_k = -w_{k-1} \\frac{d-k+1}{k}$$\n",
    "\n",
    "Below we code up the implementation for a weighting function given a differencing factor (d) and length of series (size). (Note: this code is directly taken and slightly changed from the book Advances in Financial Machine Learning. I am not attempting to claim this code as my own, just simply re-formatting it and using it for educational purposes.)"
   ]
  },
  {
   "cell_type": "code",
   "execution_count": 2,
   "metadata": {},
   "outputs": [],
   "source": [
    "def weights(d, size):\n",
    "    #set first weight to be a 1\n",
    "    w = [1]"
   ]
  },
  {
   "cell_type": "code",
   "execution_count": 17,
   "metadata": {},
   "outputs": [
    {
     "data": {
      "text/plain": [
       "numpy.ndarray"
      ]
     },
     "execution_count": 17,
     "metadata": {},
     "output_type": "execute_result"
    }
   ],
   "source": [
    "w = [1,2,3,4]\n",
    "\n",
    "\n",
    "w = np.array(w).reshape(-1,1)\n",
    "\n",
    "type(w)"
   ]
  },
  {
   "cell_type": "code",
   "execution_count": null,
   "metadata": {},
   "outputs": [],
   "source": []
  }
 ],
 "metadata": {
  "kernelspec": {
   "display_name": "Python 2",
   "language": "python",
   "name": "python2"
  },
  "language_info": {
   "codemirror_mode": {
    "name": "ipython",
    "version": 2
   },
   "file_extension": ".py",
   "mimetype": "text/x-python",
   "name": "python",
   "nbconvert_exporter": "python",
   "pygments_lexer": "ipython2",
   "version": "2.7.15"
  }
 },
 "nbformat": 4,
 "nbformat_minor": 2
}
